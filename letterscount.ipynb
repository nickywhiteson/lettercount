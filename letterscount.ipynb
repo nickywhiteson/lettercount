{
 "cells": [
  {
   "cell_type": "code",
   "execution_count": 12,
   "metadata": {},
   "outputs": [
    {
     "name": "stdout",
     "output_type": "stream",
     "text": [
      "enter a sentence: hello\n",
      "{'o': 1, 'h': 1, 'e': 1, 'l': 2}\n"
     ]
    }
   ],
   "source": [
    "sentence = input(\"enter a sentence: \")\n",
    "\n",
    "for i in sentence:\n",
    "    a = {i : sentence.count(i)}\n",
    "    number_of_chars.update(a)\n",
    "    \n",
    "print(number_of_chars)"
   ]
  },
  {
   "cell_type": "code",
   "execution_count": null,
   "metadata": {},
   "outputs": [],
   "source": []
  }
 ],
 "metadata": {
  "kernelspec": {
   "display_name": "Python 3",
   "language": "python",
   "name": "python3"
  },
  "language_info": {
   "codemirror_mode": {
    "name": "ipython",
    "version": 3
   },
   "file_extension": ".py",
   "mimetype": "text/x-python",
   "name": "python",
   "nbconvert_exporter": "python",
   "pygments_lexer": "ipython3",
   "version": "3.7.6"
  }
 },
 "nbformat": 4,
 "nbformat_minor": 4
}
